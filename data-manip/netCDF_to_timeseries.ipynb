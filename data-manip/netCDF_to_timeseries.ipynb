{
 "cells": [
  {
   "cell_type": "code",
   "execution_count": 79,
   "id": "82350688-fa77-4ea5-bf63-5bdb77cf139c",
   "metadata": {},
   "outputs": [
    {
     "name": "stdout",
     "output_type": "stream",
     "text": [
      "Xarray: 2024.6.0\n",
      "netCDF4: 1.7.1.post1\n"
     ]
    }
   ],
   "source": [
    "\"\"\"\n",
    "\n",
    "Goal: Taking a netCDF file and transforming it into a timeseries .csv file\n",
    "\n",
    "Input: The netCDF file contained daily average temperature and humidity variables\n",
    "for 2015 at multiple locations.\n",
    "\n",
    "Result: A time series .csv file saved into a specific directory. Contains the \n",
    "average daily temperature variable for 2015 for the grid space accounting for\n",
    "Brookhaven National Laboratory (BNL).\n",
    "\n",
    "\"\"\"\n",
    "\n",
    "import netCDF4 as nc #Used to read in the .nc files\n",
    "import numpy as np\n",
    "from netCDF4 import Dataset\n",
    "import xarray as xr #Used for analyzing .nc files\n",
    "import pandas as pd\n",
    "\n",
    "# Check versions\n",
    "print(\"Xarray:\", xr.__version__) #Should be: 2024.6.0 ??\n",
    "print(\"netCDF4:\", nc.__version__) #Should be 1.7.1 ??\n"
   ]
  },
  {
   "cell_type": "code",
   "execution_count": 73,
   "id": "46c6cd72-c50e-4637-853d-4fa084eb027a",
   "metadata": {},
   "outputs": [],
   "source": [
    "# Reading in the netCDF file\n",
    "data = Dataset('/Users/gabbyvaillant/EDA-MRI-ESM/source_gcm_data/temp_humi_day_MRI-ESM2-0_ssp585_r1i1p1f1_gn_20150101-20151231.nc', 'r')\n",
    "\n",
    "# Storing the lat and lon data into the variables\n",
    "lat = data.variables['lat'][:] #degrees north\n",
    "lon = data.variables['lon'][:] #degrees east\n",
    "tas = data.variables['tas'][:]\n",
    "\n",
    "# Storing the lat and lon of my office building (Building 490 at BNL) into variables\n",
    "lat_address = 40.8673561087823\n",
    "lon_address = -72.88334488861287\n",
    "\n",
    "# Since the netCDF contains the longitude value in degrees east we have to adjust \n",
    "# the values because the google map coordinates are not in this format\n",
    "new_lon_address = 360 - (-lon_address)\n",
    "#print(new_lon_address)\n",
    "\n",
    "# Squared difference of lat and lon\n",
    "sq_diff_lat = (lat - lat_address)**2\n",
    "sq_diff_lon = (lon - new_lon_address)**2\n",
    "\n",
    "# Identifying the index of the minimum sq diff for lat and lon\n",
    "# This will tell me the indexes to access the weather data for the grid covering my address\n",
    "min_index_lat = sq_diff_lat.argmin()\n",
    "min_index_lon = sq_diff_lon.argmin()\n",
    "\n",
    "# Looking at an example\n",
    "#The daily average temperature at BNL on 01/01/2015\n",
    "#print(tas[0, 116, 255], tas.units)\n",
    "#ANSWER: 271.17395 K (29.184 Farenheit)"
   ]
  },
  {
   "cell_type": "code",
   "execution_count": 87,
   "id": "30908544-2276-4013-aac1-1c9846b633a2",
   "metadata": {},
   "outputs": [
    {
     "name": "stdout",
     "output_type": "stream",
     "text": [
      "<class 'pandas.core.indexes.datetimes.DatetimeIndex'>\n",
      "Saved to: /Users/gabbyvaillant/Downloads/BNL/temperature_BNL_tas_2015.csv\n"
     ]
    }
   ],
   "source": [
    "# Taking the netCDF file and transforming it to a time series dataset\n",
    "# Creating an empty pandas dataframe with date index\n",
    "\n",
    "# Accessing the starting date for this file\n",
    "starting_date = data.variables['time'].units[11:21]\n",
    "\n",
    "# Accessing the ending date for this file\n",
    "# Only extracting the year then we are adding the month-day bc we know what it is (12-31)\n",
    "ending_date = data.variables['time'].units[11:15] + '-12-31'\n",
    "\n",
    "# Using pandas to get all the dates\n",
    "date_range = pd.date_range(start = starting_date, end = ending_date)\n",
    "date_range\n",
    "\n",
    "# Filling the DataFrame with zeros originally, specifying float data type\n",
    "df = pd.DataFrame(0.0, columns = ['Temperature'], index = date_range)\n",
    "\n",
    "# Range of time indices\n",
    "dt = np.arange(0, data.variables['time'].size)\n",
    "\n",
    "for time_index in dt:\n",
    "    df.iloc[time_index] = tas[time_index, min_index_lat, min_index_lon]\n",
    "\n",
    "df.index.name = 'Date'\n",
    "\n",
    "# Specifying the directory where the CSV file should be saved\n",
    "output_directory = '/Users/gabbyvaillant/Downloads/BNL'\n",
    "output_file = 'temperature_BNL_tas_2015.csv'\n",
    "output_path = f\"{output_directory}/{output_file}\"\n",
    "\n",
    "# Saving the time series into a csv\n",
    "df.to_csv(output_path)\n",
    "print(\"Saved to:\", output_path)"
   ]
  },
  {
   "cell_type": "code",
   "execution_count": 80,
   "id": "209d6311-cbed-4320-8724-cbe19bb9eb29",
   "metadata": {},
   "outputs": [
    {
     "data": {
      "text/plain": [
       "'\\n\\nNext steps: \\n1. This is only for one year, at one specific location, figure out the\\nbest way to convert the netCDF files to timeseries for every location\\nduring the year, for multiple years\\n2. Try to input this new timeseries .csv file into the TimeGAN and see how it works\\n\\n\\n'"
      ]
     },
     "execution_count": 80,
     "metadata": {},
     "output_type": "execute_result"
    }
   ],
   "source": [
    "\"\"\"\n",
    "\n",
    "Next steps: \n",
    "1. This is only for one year, at one specific location, figure out the\n",
    "best way to convert the netCDF files to timeseries for every location\n",
    "during the year, for multiple years\n",
    "2. Try to input this new timeseries .csv file into the TimeGAN and see how it works\n",
    "\n",
    "\n",
    "\"\"\"\n"
   ]
  },
  {
   "cell_type": "code",
   "execution_count": null,
   "id": "1fb8293e-a0bc-41af-b9d7-18722819d790",
   "metadata": {},
   "outputs": [],
   "source": []
  },
  {
   "cell_type": "code",
   "execution_count": null,
   "id": "46ee5935-6e52-4155-b9bf-3c420b573ba2",
   "metadata": {},
   "outputs": [],
   "source": []
  },
  {
   "cell_type": "code",
   "execution_count": null,
   "id": "337d0edf-704f-4c99-953e-cf731082d1aa",
   "metadata": {},
   "outputs": [],
   "source": []
  },
  {
   "cell_type": "code",
   "execution_count": null,
   "id": "caff7a82-2fc8-46e5-9459-b94605e24836",
   "metadata": {},
   "outputs": [],
   "source": []
  },
  {
   "cell_type": "code",
   "execution_count": null,
   "id": "6bbb1f8f-fcbc-4e97-b636-9bbb6a22c2fb",
   "metadata": {},
   "outputs": [],
   "source": []
  },
  {
   "cell_type": "code",
   "execution_count": null,
   "id": "2c74ba22-0dd4-4566-a079-8bff7af03db9",
   "metadata": {},
   "outputs": [],
   "source": []
  }
 ],
 "metadata": {
  "kernelspec": {
   "display_name": "Python 3 (ipykernel)",
   "language": "python",
   "name": "python3"
  },
  "language_info": {
   "codemirror_mode": {
    "name": "ipython",
    "version": 3
   },
   "file_extension": ".py",
   "mimetype": "text/x-python",
   "name": "python",
   "nbconvert_exporter": "python",
   "pygments_lexer": "ipython3",
   "version": "3.9.18"
  }
 },
 "nbformat": 4,
 "nbformat_minor": 5
}
