{
 "cells": [
  {
   "cell_type": "markdown",
   "id": "e267b8d2-a072-470c-b345-4103c1a0a46f",
   "metadata": {},
   "source": [
    "# Downscaling Temperature at 2m for the **NYC/Tristate** area\n",
    "\n",
    "**Variables:**\n",
    "* Variable to be downscaled: Temperature at 2 meters (T2)\n",
    "* Predictor variable: Surface Pressure (PSFC) \n",
    "\n",
    "**Dataset Resolutions:**\n",
    "* uWRF (Domain 02): 3-hourly, 3 km\n",
    "* NAM: 3-hourly, 12 km\n",
    "\n",
    "**Spatial Coverage:**\n",
    "* 127719.4 km²"
   ]
  },
  {
   "cell_type": "code",
   "execution_count": 6,
   "id": "a05d3e67-13a8-4605-a6a3-a4fe5bd545ce",
   "metadata": {},
   "outputs": [],
   "source": [
    "import xarray as xr\n",
    "import numpy as np\n",
    "import ecubevis as ecv\n",
    "import scipy as sp\n",
    "import netCDF4 as nc\n",
    "import dl4ds as dds\n",
    "import tensorflow as tf \n",
    "from tensorflow import keras\n",
    "from tensorflow.keras import models"
   ]
  },
  {
   "cell_type": "code",
   "execution_count": 7,
   "id": "546200bc-793f-4e82-a240-ab1a779bd00c",
   "metadata": {},
   "outputs": [
    {
     "name": "stdout",
     "output_type": "stream",
     "text": [
      "Python 3.8.18\n"
     ]
    }
   ],
   "source": [
    "!python --version"
   ]
  },
  {
   "cell_type": "markdown",
   "id": "e2044ab3-7a39-4c9e-816d-3197a6d69b58",
   "metadata": {},
   "source": [
    "# Retrieve files from server"
   ]
  },
  {
   "cell_type": "code",
   "execution_count": 8,
   "id": "86717240-493f-48d6-8edb-c48f5fe39cb8",
   "metadata": {},
   "outputs": [],
   "source": [
    "uwrf_train = xr.open_dataset('/D4/data/gvaillant/prep-uwrf/d02/pred-split/train/uWRF_final_01-02.nc')\n",
    "uwrf_val = xr.open_dataset('/D4/data/gvaillant/prep-uwrf/d02/pred-split/val/uWRF_final_03.nc')\n",
    "uwrf_test = xr.open_dataset('/D4/data/gvaillant/prep-uwrf/d02/pred-split/test/uWRF_final_03.nc')\n",
    "\n",
    "nam_train = xr.open_dataset('/home/gvaillant1/downscaling/data/T2-tristate-data/aligned_nam_train_data.nc')\n",
    "nam_val = xr.open_dataset('/home/gvaillant1/downscaling/data/T2-tristate-data/aligned_nam_val_data.nc')\n",
    "nam_test = xr.open_dataset('/home/gvaillant1/downscaling/data/T2-tristate-data/aligned_nam_test_data.nc')"
   ]
  },
  {
   "cell_type": "markdown",
   "id": "9ca5f3eb-a9ed-4253-abc0-e449b85db872",
   "metadata": {},
   "source": [
    "# Calculating Spatial Coverage:"
   ]
  },
  {
   "cell_type": "code",
   "execution_count": 9,
   "id": "0bcdbee1-0335-488a-8881-1c7d9c864e4f",
   "metadata": {},
   "outputs": [
    {
     "name": "stdout",
     "output_type": "stream",
     "text": [
      "Total area covered by the dataset: 127719.36513031229 km²\n"
     ]
    }
   ],
   "source": [
    "import xarray as xr\n",
    "import numpy as np\n",
    "from geopy.distance import geodesic\n",
    "\n",
    "# Load the dataset\n",
    "uwrf_train = xr.open_dataset('/D4/data/gvaillant/prep-uwrf/d02/pred-split/train/uWRF_final_01-02.nc')\n",
    "\n",
    "# Extract latitude and longitude\n",
    "lat = uwrf_train['latitude'].values  # Assuming 'latitude' is the name of the dimension\n",
    "lon = uwrf_train['longitude'].values  # Assuming 'longitude' is the name of the dimension\n",
    "\n",
    "# Compute the distance between two adjacent latitude points (in km)\n",
    "lat_diff = np.abs(lat[1] - lat[0])  # Difference between two adjacent latitude points\n",
    "lat_distance_km = lat_diff * 111  # 1 degree of latitude ~ 111 km\n",
    "\n",
    "# Compute the distance between two adjacent longitude points (in km)\n",
    "lon_diff = np.abs(lon[1] - lon[0])  # Difference between two adjacent longitude points\n",
    "lon_distance_km = lon_diff * 111 * np.cos(np.radians(lat[0]))  # Adjust for latitude\n",
    "\n",
    "# Calculate the area of one grid cell (in km²)\n",
    "cell_area_km2 = lat_distance_km * lon_distance_km\n",
    "\n",
    "# Calculate the total area covered by the dataset (in km²)\n",
    "num_lat_cells = len(lat)\n",
    "num_lon_cells = len(lon)\n",
    "total_area_km2 = num_lat_cells * num_lon_cells * cell_area_km2\n",
    "\n",
    "# Output the total area\n",
    "print(f\"Total area covered by the dataset: {total_area_km2} km²\")\n"
   ]
  },
  {
   "cell_type": "markdown",
   "id": "21d0185c-2654-4b2d-82f2-a1af5312210b",
   "metadata": {},
   "source": [
    "# Accessing specific variable from each dataset"
   ]
  },
  {
   "cell_type": "code",
   "execution_count": 10,
   "id": "7fcf8b9f-2482-43e5-ab02-51305527b40c",
   "metadata": {},
   "outputs": [],
   "source": [
    "#High resolution (uWRF) data\n",
    "T2_hr_train = uwrf_train.T2\n",
    "T2_hr_val = uwrf_val.T2\n",
    "T2_hr_test = uwrf_test.T2\n",
    "\n",
    "PSFC_hr_train = uwrf_train.PSFC\n",
    "PSFC_hr_val = uwrf_val.PSFC\n",
    "PSFC_hr_test = uwrf_test.PSFC\n",
    "#--------------------------\n",
    "#Low resolution (NAM) data\n",
    "T2_lr_train = nam_train.T2\n",
    "T2_lr_val = nam_val.T2\n",
    "T2_lr_test = nam_test.T2\n",
    "\n",
    "PSFC_lr_train = nam_train.PSFC\n",
    "PSFC_lr_val = nam_val.PSFC\n",
    "PSFC_lr_test = nam_test.PSFC"
   ]
  },
  {
   "cell_type": "markdown",
   "id": "c20e33b0-ead6-43d0-ab00-4dd8149c4b72",
   "metadata": {},
   "source": [
    "# Normalization:"
   ]
  },
  {
   "cell_type": "code",
   "execution_count": 11,
   "id": "c51c524d-4dab-4dc1-8abd-78c66adabc05",
   "metadata": {},
   "outputs": [],
   "source": [
    "T2_scaler_train = dds.StandardScaler(axis=None)\n",
    "T2_scaler_train.fit(T2_hr_train)  \n",
    "\n",
    "PSFC_scaler_train = dds.StandardScaler(axis=None)\n",
    "PSFC_scaler_train.fit(PSFC_hr_train)\n",
    "#----------------------------------------------\n",
    "#High resolution (uWRF):\n",
    "y_train = T2_scaler_train.transform(T2_hr_train)\n",
    "y_val = T2_scaler_train.transform(T2_hr_val)\n",
    "y_test = T2_scaler_train.transform(T2_hr_test)\n",
    "\n",
    "\n",
    "y_z_train = PSFC_scaler_train.transform(PSFC_hr_train)\n",
    "y_z_val = PSFC_scaler_train.transform(PSFC_hr_val)\n",
    "y_z_test = PSFC_scaler_train.transform(PSFC_hr_test)\n",
    "\n",
    "#-------------------------------------------------\n",
    "#Low resolution (NAM)\n",
    "\n",
    "x_train = T2_scaler_train.transform(T2_lr_train)\n",
    "x_val = T2_scaler_train.transform(T2_lr_val)\n",
    "x_test = T2_scaler_train.transform(T2_lr_test)\n",
    "\n",
    "x_z_train = PSFC_scaler_train.transform(PSFC_lr_train)\n",
    "x_z_val = PSFC_scaler_train.transform(PSFC_lr_val)\n",
    "x_z_test = PSFC_scaler_train.transform(PSFC_lr_test)\n"
   ]
  },
  {
   "cell_type": "code",
   "execution_count": 12,
   "id": "9c42713e-e08c-4b89-8e1f-3829579a82e3",
   "metadata": {},
   "outputs": [],
   "source": [
    "y_train = y_train.expand_dims(dim='channel', axis=-1)\n",
    "y_val = y_val.expand_dims(dim='channel', axis=-1)\n",
    "y_test = y_test.expand_dims(dim='channel', axis=-1)\n",
    "\n",
    "y_z_train = y_z_train.expand_dims(dim ='channel', axis=-1)\n",
    "y_z_val = y_z_val.expand_dims(dim ='channel', axis=-1)\n",
    "y_z_test = y_z_test.expand_dims(dim ='channel', axis=-1)\n",
    "\n",
    "#-----------------------------------------------------\n",
    "\n",
    "x_train = x_train.expand_dims(dim='channel', axis=-1)\n",
    "x_val = x_val.expand_dims(dim='channel', axis=-1)\n",
    "x_test = x_test.expand_dims(dim='channel', axis=-1)\n",
    "\n",
    "x_z_train = x_z_train.expand_dims(dim ='channel', axis=-1)\n",
    "x_z_val = x_z_val.expand_dims(dim ='channel', axis=-1)\n",
    "x_z_test = x_z_test.expand_dims(dim ='channel', axis=-1)"
   ]
  },
  {
   "cell_type": "code",
   "execution_count": 13,
   "id": "01fda866-991e-4f87-b08b-7133fe0c2862",
   "metadata": {},
   "outputs": [
    {
     "name": "stdout",
     "output_type": "stream",
     "text": [
      "T2 hr data shape:\n",
      "(1537, 120, 120, 1) (870, 120, 120, 1) (870, 120, 120, 1)\n",
      "\n",
      "PSFC hr data shape:\n",
      "(1537, 120, 120, 1) (870, 120, 120, 1) (870, 120, 120, 1)\n",
      "\n",
      "T2 lr data shape:\n",
      "(1537, 30, 30, 1) (450, 30, 30, 1) (450, 30, 30, 1)\n",
      "\n",
      "PSFC lr data shape:\n",
      "(1537, 30, 30, 1) (450, 30, 30, 1) (450, 30, 30, 1)\n"
     ]
    }
   ],
   "source": [
    "print(\"T2 hr data shape:\")\n",
    "print(y_train.shape, y_val.shape, y_test.shape)\n",
    "print(\"\")\n",
    "print(\"PSFC hr data shape:\")\n",
    "print(y_z_train.shape, y_z_val.shape, y_z_test.shape)\n",
    "print(\"\")\n",
    "print(\"T2 lr data shape:\")\n",
    "print(x_train.shape, x_val.shape, x_test.shape)\n",
    "print(\"\")\n",
    "print(\"PSFC lr data shape:\")\n",
    "print(x_z_train.shape, x_z_val.shape, x_z_test.shape)"
   ]
  },
  {
   "cell_type": "code",
   "execution_count": 14,
   "id": "0ba4bf3f-6682-48f6-b14a-bea9921ac002",
   "metadata": {},
   "outputs": [
    {
     "name": "stdout",
     "output_type": "stream",
     "text": [
      "HR array: (120, 120, 1), LR array (30, 30, 2)\n"
     ]
    },
    {
     "data": {
      "image/png": "[encoded data removed]",
      "text/plain": [
       "<Figure size 500x500 with 2 Axes>"
      ]
     },
     "metadata": {},
     "output_type": "display_data"
    },
    {
     "data": {
      "image/png": "[encoded data removed]",
      "text/plain": [
       "<Figure size 1000x500 with 4 Axes>"
      ]
     },
     "metadata": {},
     "output_type": "display_data"
    },
    {
     "data": {
      "image/png": "[encoded data removed]",
      "text/plain": [
       "<Figure size 500x500 with 2 Axes>"
      ]
     },
     "metadata": {},
     "output_type": "display_data"
    }
   ],
   "source": [
    "#Check for correct creation of the low-res version of uWRF\n",
    "#This function is called before training begins. This is just an example to show what is going on:\n",
    "\n",
    "_ = dds.create_pair_hr_lr(y_train.values[0], None, 'spc', 4, None, None, y_z_train.values[0], None, True, interpolation='inter_area')"
   ]
  },
  {
   "cell_type": "markdown",
   "id": "231bca30-241f-4683-bdc0-a20c9f2c361a",
   "metadata": {},
   "source": [
    "# Training Model\n",
    "\n",
    "There are several types of backbones to try, so here we will implement each one and evaluate which performs best.\n",
    "\n",
    "* resnet\n",
    "* densenet\n",
    "* convnet\n",
    "* convnext"
   ]
  },
  {
   "cell_type": "code",
   "execution_count": null,
   "id": "e39315f0-422d-42d2-85d6-de802daa5577",
   "metadata": {
    "scrolled": true
   },
   "outputs": [
    {
     "name": "stdout",
     "output_type": "stream",
     "text": [
      "List of devices:\n",
      "[PhysicalDevice(name='/physical_device:CPU:0', device_type='CPU')]\n",
      "Number of devices: 1\n",
      "Global batch size: 60\n",
      "--------------------------------------------------------------------------------\n",
      "Starting time: 2025-01-15 16:47:26\n",
      "--------------------------------------------------------------------------------\n",
      "Model: \"resnet_spc\"\n",
      "______________________________________________________________________________________________________________________________________________________\n",
      " Layer (type)                                Output Shape                                 Param #        Connected to                                 \n",
      "======================================================================================================================================================\n",
      " input_1 (InputLayer)                        [(None, None, None, 2)]                      0              []                                           \n",
      "                                                                                                                                                      \n",
      " conv2d (Conv2D)                             (None, None, None, 8)                        152            ['input_1[0][0]']                            \n",
      "                                                                                                                                                      \n",
      " ResidualBlock1 (ResidualBlock)              (None, None, None, 8)                        1168           ['conv2d[0][0]']                             \n",
      "                                                                                                                                                      \n",
      " ResidualBlock2 (ResidualBlock)              (None, None, None, 16)                       3632           ['ResidualBlock1[0][0]']                     \n",
      "                                                                                                                                                      \n",
      " ResidualBlock3 (ResidualBlock)              (None, None, None, 24)                       9096           ['ResidualBlock2[0][0]']                     \n",
      "                                                                                                                                                      \n",
      " ResidualBlock4 (ResidualBlock)              (None, None, None, 32)                       16992          ['ResidualBlock3[0][0]']                     \n",
      "                                                                                                                                                      \n",
      " ResidualBlock5 (ResidualBlock)              (None, None, None, 40)                       27320          ['ResidualBlock4[0][0]']                     \n",
      "                                                                                                                                                      \n",
      " ResidualBlock6 (ResidualBlock)              (None, None, None, 48)                       40080          ['ResidualBlock5[0][0]']                     \n",
      "                                                                                                                                                      \n",
      " ResidualBlock7 (ResidualBlock)              (None, None, None, 56)                       55272          ['ResidualBlock6[0][0]']                     \n",
      "                                                                                                                                                      \n",
      " ResidualBlock8 (ResidualBlock)              (None, None, None, 64)                       72896          ['ResidualBlock7[0][0]']                     \n",
      "                                                                                                                                                      \n",
      " conv2d_24 (Conv2D)                          (None, None, None, 64)                       36928          ['ResidualBlock8[0][0]']                     \n",
      "                                                                                                                                                      \n",
      " transition_block (TransitionBlock)          (None, None, None, 64)                       576            ['conv2d[0][0]']                             \n",
      "                                                                                                                                                      \n",
      " lambda (Lambda)                             (None, None, None, 64)                       0              ['conv2d_24[0][0]']                          \n",
      "                                                                                                                                                      \n",
      " add (Add)                                   (None, None, None, 64)                       0              ['transition_block[0][0]',                   \n",
      "                                                                                                          'lambda[0][0]']                             \n",
      "                                                                                                                                                      \n",
      " SubpixelConvolution (SubpixelConvolutionBl  (None, None, None, 64)                       147712         ['add[0][0]']                                \n",
      " ock)                                                                                                                                                 \n",
      "                                                                                                                                                      \n",
      " TransitionLast (TransitionBlock)            (None, None, None, 8)                        520            ['SubpixelConvolution[0][0]']                \n",
      "                                                                                                                                                      \n",
      " conv_block (ConvBlock)                      (None, None, None, 8)                        1210           ['TransitionLast[0][0]']                     \n",
      "                                                                                                                                                      \n",
      " conv_block_1 (ConvBlock)                    (None, None, None, 1)                        83             ['conv_block[0][0]']                         \n",
      "                                                                                                                                                      \n",
      "======================================================================================================================================================\n",
      "Total params: 413637 (1.58 MB)\n",
      "Trainable params: 413637 (1.58 MB)\n",
      "Non-trainable params: 0 (0.00 Byte)\n",
      "______________________________________________________________________________________________________________________________________________________\n",
      "Epoch 1/50\n",
      "25/25 [==============================] - 32s 1s/step - loss: 0.4332 - val_loss: 0.1867\n",
      "Epoch 2/50\n",
      "25/25 [==============================] - 27s 1s/step - loss: 0.1346 - val_loss: 0.1208\n",
      "Epoch 3/50\n",
      "25/25 [==============================] - 27s 1s/step - loss: 0.1027 - val_loss: 0.0982\n",
      "Epoch 4/50\n",
      "25/25 [==============================] - 27s 1s/step - loss: 0.0925 - val_loss: 0.0859\n",
      "Epoch 5/50\n",
      "25/25 [==============================] - 27s 1s/step - loss: 0.0819 - val_loss: 0.0775\n",
      "Epoch 6/50\n",
      "25/25 [==============================] - ETA: 0s - loss: 0.0927"
     ]
    }
   ],
   "source": [
    "ARCH_PARAMS = dict(n_filters=8,\n",
    "                   n_blocks=8,\n",
    "                   normalization=None,\n",
    "                   dropout_rate=0.0,\n",
    "                   dropout_variant='spatial',\n",
    "                   attention=False,\n",
    "                   activation='relu',\n",
    "                   localcon_layer=False)\n",
    "\n",
    "trainer = dds.SupervisedTrainer(\n",
    "    backbone='resnet',\n",
    "    upsampling='spc', \n",
    "    data_train=y_train,\n",
    "    data_val=y_val,\n",
    "    data_test=y_test,\n",
    "    data_train_lr=None, # here you can pass the LR dataset for training with explicit paired samples\n",
    "    data_val_lr=None, # here you can pass the LR dataset for training with explicit paired samples\n",
    "    data_test_lr=None, # here you can pass the LR dataset for training with explicit paired samples\n",
    "    scale=4, \n",
    "    time_window=None, \n",
    "    static_vars=None,\n",
    "    predictors_train=[y_z_train],\n",
    "    predictors_val=[y_z_val],\n",
    "    predictors_test=[y_z_test],\n",
    "    interpolation='inter_area',\n",
    "    patch_size=None, \n",
    "    batch_size=60, #changed from 60\n",
    "    loss='mae',\n",
    "    epochs=50, \n",
    "    steps_per_epoch=None, \n",
    "    validation_steps=None, \n",
    "    test_steps=None, \n",
    "    learning_rate=(1e-3, 1e-4), lr_decay_after=1e4,\n",
    "    early_stopping=False, patience=6, min_delta=0, \n",
    "    save=False, \n",
    "    save_path=None,\n",
    "    show_plot=True, verbose=True, \n",
    "    device='CPU',\n",
    "    **ARCH_PARAMS)\n",
    "trainer.run()\n"
   ]
  },
  {
   "cell_type": "markdown",
   "id": "f6be0fe7-555a-433f-a3a2-6f32ac7599fb",
   "metadata": {},
   "source": [
    "# Prediction on unseen uWRF test set"
   ]
  },
  {
   "cell_type": "code",
   "execution_count": null,
   "id": "75b64d3c-40e4-482b-ab17-65fe93ab027c",
   "metadata": {},
   "outputs": [],
   "source": [
    "pred = dds.Predictor(\n",
    "    trainer, \n",
    "    y_test, \n",
    "    scale=4, \n",
    "    array_in_hr=True,\n",
    "    static_vars=None, \n",
    "    predictors=[y_z_test], \n",
    "    time_window=None,\n",
    "    interpolation='inter_area', \n",
    "    batch_size=64,\n",
    "    scaler=T2_scaler_train,\n",
    "    save_path=None,\n",
    "    save_fname=None,\n",
    "    return_lr=True,\n",
    "    device='CPU')\n",
    "\n",
    "unscaled_y_pred, coarsened_array = pred.run()"
   ]
  },
  {
   "cell_type": "markdown",
   "id": "1bf71913-b361-4db5-b940-b33595645087",
   "metadata": {},
   "source": [
    "# Prediction on unseen NAM test set"
   ]
  },
  {
   "cell_type": "code",
   "execution_count": null,
   "id": "c6c6c710-e7d1-44ec-8a45-14c3ceb08cc1",
   "metadata": {},
   "outputs": [],
   "source": [
    "pred1 = dds.Predictor(\n",
    "    trainer, \n",
    "    x_test, \n",
    "    scale=4, \n",
    "    array_in_hr=False,\n",
    "    static_vars=None, \n",
    "    predictors=[x_z_test], \n",
    "    time_window=None,\n",
    "    interpolation='inter_area', \n",
    "    batch_size=4,\n",
    "    scaler=T2_scaler_train,\n",
    "    save_path=None,\n",
    "    save_fname=None,\n",
    "    return_lr=True,\n",
    "    device='CPU')\n",
    "\n",
    "unscaled_x_pred, coarsened_array1 = pred1.run()"
   ]
  },
  {
   "cell_type": "code",
   "execution_count": null,
   "id": "e97ee4e5-8f8b-4b00-bcd2-78351ff8d8c8",
   "metadata": {},
   "outputs": [],
   "source": [
    "unscaled_y_test = T2_scaler_train.inverse_transform(y_test)"
   ]
  },
  {
   "cell_type": "markdown",
   "id": "c3e27987-7e07-4737-a3fe-31270f20a6d7",
   "metadata": {},
   "source": [
    "# Compare training results with the ground truth data (uWRF)"
   ]
  },
  {
   "cell_type": "code",
   "execution_count": null,
   "id": "2fcafe45-599a-4df7-afd3-20df9058d8a3",
   "metadata": {},
   "outputs": [],
   "source": [
    "ecv.plot((unscaled_y_test[1].values, unscaled_y_pred[1]), subplot_titles=('groundtruth t2m', 'downscaled t2m'))\n",
    "\n",
    "mae = dds.losses.mae(unscaled_y_test[1].values, unscaled_y_pred[1])\n",
    "print(f\"MAE for training: {mae}\")"
   ]
  },
  {
   "cell_type": "markdown",
   "id": "2dd6c718-9d12-466a-9fdd-296b73de244b",
   "metadata": {},
   "source": [
    "# Compare results with the original NAM data"
   ]
  },
  {
   "cell_type": "code",
   "execution_count": null,
   "id": "e34c2646-d130-418c-9199-c219e37809e0",
   "metadata": {},
   "outputs": [],
   "source": [
    "unscaled_x_test = T2_scaler_train.inverse_transform(x_test)\n",
    "ecv.plot((unscaled_x_test[1].values, unscaled_x_pred[1]), subplot_titles=('original t2m (NAM)', 'downscaled t2m'))"
   ]
  },
  {
   "cell_type": "markdown",
   "id": "c194713b-e9ce-44fd-bbdb-35a1c909870a",
   "metadata": {},
   "source": [
    "# Compare results with ground truth data (uWRF)"
   ]
  },
  {
   "cell_type": "code",
   "execution_count": null,
   "id": "6e8f2a29-6675-4427-aae5-6ac987181c49",
   "metadata": {},
   "outputs": [],
   "source": [
    "ecv.plot((unscaled_y_test[1].values, unscaled_x_pred[1]), subplot_titles=('ground truth t2m (uWRF)', 'downscaled t2m'))"
   ]
  },
  {
   "cell_type": "markdown",
   "id": "86981b42-0551-40ab-915b-de83f6e12b7f",
   "metadata": {},
   "source": [
    "# Coarsened variables (done during training process)"
   ]
  },
  {
   "cell_type": "code",
   "execution_count": null,
   "id": "fec04e88-054d-4a15-9cbe-4ff4d9b31d43",
   "metadata": {},
   "outputs": [],
   "source": [
    "ind = 1\n",
    "ecv.plot((coarsened_array1[ind][:,:,0], coarsened_array1[ind][:,:,1]), subplot_titles=('t2m coarsened', 'PSFC (predictor) coarsened'))"
   ]
  },
  {
   "cell_type": "code",
   "execution_count": null,
   "id": "79bdc37c-4bca-416b-a4a4-381c139fa181",
   "metadata": {},
   "outputs": [],
   "source": [
    "mae = dds.losses.mae(unscaled_y_test.values[1], unscaled_y_pred[1])\n",
    "print(f\"MAE for training: {mae}\")\n",
    "\n",
    "mse = dds.losses.mse(unscaled_y_test[0], unscaled_y_pred[0])\n",
    "print(f\"MSE for training: {mse}\")\n",
    "print(\"\")\n",
    "mae_pred = dds.losses.mae(unscaled_y_test[0], unscaled_x_pred[0])\n",
    "print(f\"MAE on NAM: {mae_pred}\")\n",
    "mse_pred = dds.losses.mse(unscaled_y_test[0], unscaled_x_pred[0])\n",
    "print(f\"MSE on NAM: {mse_pred}\")\n",
    "\n",
    "print(\"\")\n",
    "if mae == mae_pred:\n",
    "    print(\"Same MAE loss value for different unseen datasets.\")\n",
    "else:\n",
    "    print(\"MAE loss is not the same\")\n",
    "    \n",
    "\n",
    "if mse == mse_pred:\n",
    "    print(\"Same MSE loss value for different unseen datasets :(\")\n",
    "else:\n",
    "    print(\"MSE loss is not the same\")\n",
    "\n",
    "mae_for_preds = dds.losses.mae(unscaled_x_pred[0], unscaled_y_pred[0])\n",
    "print(\"MAE between predictions, to see if they're exactly the same:\")\n",
    "print(f\"MAE: {mae_for_preds}\")\n",
    "\n"
   ]
  }
 ],
 "metadata": {
  "kernelspec": {
   "display_name": "Python 3 (ipykernel)",
   "language": "python",
   "name": "python3"
  },
  "language_info": {
   "codemirror_mode": {
    "name": "ipython",
    "version": 3
   },
   "file_extension": ".py",
   "mimetype": "text/x-python",
   "name": "python",
   "nbconvert_exporter": "python",
   "pygments_lexer": "ipython3",
   "version": "3.8.18"
  }
 },
 "nbformat": 4,
 "nbformat_minor": 5
}
