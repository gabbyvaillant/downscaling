{
 "cells": [
  {
   "cell_type": "markdown",
   "id": "46c13278-7495-444a-a53b-bacfc2f96a89",
   "metadata": {},
   "source": [
    "# **Time Series Weather Synthetic Data Generation Using TimeGAN Model**\n",
    "\n",
    "* TimeGAN - Utilizing this ML model to generate time series data. [Github](https://github.com/jsyoon0823/TimeGAN/tree/master) and [paper](https://papers.nips.cc/paper_files/paper/2019/file/c9efe5f26cd17ba6216bbe2a7d26d490-Paper.pdf).\n",
    "* ydata_synthetic - Updated library for TimeGAN and other models. [Github](https://github.com/ydataai/ydata-synthetic/tree/dev) and [article].(https://towardsdatascience.com/synthetic-time-series-data-a-gan-approach-869a984f2239)\n",
    "* Following along with the [TimeGAN_Synthetic_stock_data.ipynb](https://github.com/ydataai/ydata-synthetic/blob/dev/examples/timeseries/TimeGAN_Synthetic_stock_data.ipynb) which generates synthetic stock data.\n",
    "\n",
    "\n",
    "**Dataset Information**\n",
    "* The data used in this notebook was downloaded from [ESGF](https://aims2.llnl.gov/search) and has been cleaned for simplicity\n",
    "* Data cleaning steps:\n",
    "  - Originally downloaded as NetCDF file (.nc) from ESGF with only one variable included: daily average temperature.\n",
    "  - Originally included several years, now only contains data for 2015 (01/01/2015 to 12/31/2015).\n",
    "  -  Output from global climate model (GCMs) with a daily 100km resolution. GCMs are what are of interest for meterologists to have downscaled data from.\n",
    "  -  Columns: 'Date' and 'Temperature'\n",
    "  -  365 Rows representing each day"
   ]
  },
  {
   "cell_type": "code",
   "execution_count": 71,
   "id": "c80304ff-2cd0-4528-9a62-4371e344c920",
   "metadata": {},
   "outputs": [],
   "source": [
    "import ydata_synthetic\n",
    "from os import path\n",
    "import pandas as pd\n",
    "import numpy as np\n",
    "import warnings\n",
    "warnings.filterwarnings(\"ignore\")\n",
    "\n",
    "from ydata_synthetic.synthesizers import ModelParameters, TrainParameters\n",
    "from ydata_synthetic.preprocessing.timeseries.stock import transformations\n",
    "\n",
    "#Below is giving errors for some reason\n",
    "#from ydata_synthetic.synthesizers.timeseries import TimeSeriesSynthesizer\n",
    "\n",
    "#TypeError: unsupported operand type(s) for |: 'types.GenericAlias' and 'NoneType'\n",
    "#This is working when we use a GoogleColab notebook but not when I try it on Jupyter"
   ]
  },
  {
   "cell_type": "markdown",
   "id": "34a6c1a2-ce5c-4302-960c-da882262476d",
   "metadata": {},
   "source": [
    "# **Loading Dataset and Standardizing**\n"
   ]
  },
  {
   "cell_type": "code",
   "execution_count": 70,
   "id": "23827f40-e96b-487b-80a2-e870e7935383",
   "metadata": {},
   "outputs": [
    {
     "name": "stdout",
     "output_type": "stream",
     "text": [
      "(365, 1)\n"
     ]
    }
   ],
   "source": [
    "# Loading dataset using pandas\n",
    "weather_df = pd.read_csv('/Users/gabbyvaillant/Downloads/BNL/temperature_BNL_tas_2015.csv')\n",
    "\n",
    "#Set Date column as index\n",
    "weather_df = weather_df.set_index('Date').sort_index()\n",
    "\n",
    "#Assign dataset path\n",
    "data_path = '/Users/gabbyvaillant/Downloads/BNL/temperature_BNL_tas_2015.csv'\n",
    "\n",
    "#Use 'transformations' function from ydata_synthetic library to normalize and break into sequences\n",
    "processed_weather = transformations(data_path, seq_len=30)\n",
    "\n",
    "cols = list(weather_df.columns)\n",
    "print(weather_df.shape)"
   ]
  },
  {
   "cell_type": "markdown",
   "id": "5336dc5f-cd06-4489-9f98-dceb5c6a7b3e",
   "metadata": {},
   "source": [
    "# **Defining Model Hyperparameters**\n",
    "\n",
    "**Networks:**\n",
    "- Generator\n",
    "- Discriminator\n",
    "- Embedder\n",
    "- Recovery Network\n",
    "\n",
    "**Parameters:**\n",
    "* seq_len: Sequence length\n",
    "* n_seq: Represents the number of features in the dataset\n",
    "* hidden_dim: Represents the dimensionality of the hidden layers in the model. Keep tuning to optimize model.\n",
    "* gamma: Represents the weight of the divergence term in the loss function.\n",
    "* noise_dim: Defines the dimensionality of the noise input to the GAN.\n",
    "* dim: Sets the size of the layers in the GAN\n",
    "* batch_size: Specifies the number of samples per gradient update. Adjust based on the capacity of GPU/CPU.\n",
    "* log_step: Frequency of logging the training progress.\n",
    "* learning_rate: Controls how quickly the model converges\n",
    "* epochs: Number of training iterations. Start small and increase for final training.\n",
    "\n",
    "\n",
    "\n",
    "**NOTE:** Parameters should be optimized and tailored to the specific dataset you are working with."
   ]
  },
  {
   "cell_type": "code",
   "execution_count": 55,
   "id": "5e405b19-e019-4771-93bf-6749aa8b7df1",
   "metadata": {},
   "outputs": [],
   "source": [
    "#Specifying parameters for TimeGAN model\n",
    "\n",
    "seq_len = 30 #To capture monthly patterns\n",
    "n_seq = 1 #'Temperature' is the only feature\n",
    "hidden_dim = 24\n",
    "gamma = 1\n",
    "\n",
    "noise_dim = 32\n",
    "\n",
    "#NOTE: When adding downscaling aspect to the model, the noise input will not exist, bc\n",
    "#the generator will recieve the low-resolution dataset we are aiming to downscale as input instead of noise\n",
    "\n",
    "dim = 128\n",
    "batch_size = 128\n",
    "\n",
    "log_step = 100\n",
    "learning_rate = 5e-4\n",
    "\n",
    "# For quick prototyping\n",
    "# epochs=50000\n",
    "epochs = 10\n",
    "\n",
    "gan_args = ModelParameters(\n",
    "    batch_size=batch_size, lr=learning_rate, noise_dim=noise_dim, layers_dim=dim\n",
    ")\n",
    "\n",
    "train_args = TrainParameters(\n",
    "    epochs=epochs, sequence_length=seq_len, number_sequences=n_seq\n",
    ")"
   ]
  },
  {
   "cell_type": "markdown",
   "id": "bf237210-d32f-438a-8f8e-2d67037c4d8d",
   "metadata": {},
   "source": [
    "# **Training the GAN Synthesizer**\n"
   ]
  },
  {
   "cell_type": "code",
   "execution_count": 72,
   "id": "4fc8c6d9-3d4c-4c0e-a88c-28143aa6a142",
   "metadata": {},
   "outputs": [
    {
     "ename": "NameError",
     "evalue": "name 'TimeSeriesSynthesizer' is not defined",
     "output_type": "error",
     "traceback": [
      "\u001b[0;31m---------------------------------------------------------------------------\u001b[0m",
      "\u001b[0;31mNameError\u001b[0m                                 Traceback (most recent call last)",
      "Cell \u001b[0;32mIn[72], line 9\u001b[0m\n\u001b[1;32m      7\u001b[0m     synth \u001b[38;5;241m=\u001b[39m TimeSeriesSynthesizer\u001b[38;5;241m.\u001b[39mload(\u001b[38;5;124m\"\u001b[39m\u001b[38;5;124msynthesizer_weather.pkl\u001b[39m\u001b[38;5;124m\"\u001b[39m)\n\u001b[1;32m      8\u001b[0m \u001b[38;5;28;01melse\u001b[39;00m:\n\u001b[0;32m----> 9\u001b[0m     synth \u001b[38;5;241m=\u001b[39m \u001b[43mTimeSeriesSynthesizer\u001b[49m(modelname\u001b[38;5;241m=\u001b[39m\u001b[38;5;124m\"\u001b[39m\u001b[38;5;124mtimegan\u001b[39m\u001b[38;5;124m\"\u001b[39m, model_parameters\u001b[38;5;241m=\u001b[39mgan_args)\n\u001b[1;32m     10\u001b[0m     synth\u001b[38;5;241m.\u001b[39mfit(weather_df, train_args, num_cols\u001b[38;5;241m=\u001b[39mcols)\n\u001b[1;32m     11\u001b[0m     synth\u001b[38;5;241m.\u001b[39msave(\u001b[38;5;124m\"\u001b[39m\u001b[38;5;124msynthesizer_weather.pkl\u001b[39m\u001b[38;5;124m\"\u001b[39m)\n",
      "\u001b[0;31mNameError\u001b[0m: name 'TimeSeriesSynthesizer' is not defined"
     ]
    }
   ],
   "source": [
    "\"\"\"\n",
    "This cell giving problems because I can't import TimeSeriesSynthesizer\n",
    "found in cell 1.\n",
    "\"\"\"\n",
    "\n",
    "if path.exists(\"synthesizer_stock.pkl\"):\n",
    "    synth = TimeSeriesSynthesizer.load(\"synthesizer_weather.pkl\")\n",
    "else:\n",
    "    synth = TimeSeriesSynthesizer(modelname=\"timegan\", model_parameters=gan_args)\n",
    "    synth.fit(weather_df, train_args, num_cols=cols)\n",
    "    synth.save(\"synthesizer_weather.pkl\")"
   ]
  },
  {
   "cell_type": "markdown",
   "id": "029dc861-cbca-4a6f-9b3b-fbb9d58b2bf9",
   "metadata": {},
   "source": [
    "# Notes\n",
    "\n",
    "07/17\n",
    "\n",
    "When I run this file in Google Colab, I do not get the error like I do here and it runs. I need figure out why it is not working in other IDEs like Jupyter and Spyder. \n",
    "\n",
    "Also, once I run the code and train the model, it does not allow me to retrain the model again when I edit the code to increase the number of epochs (increasing this should increase accuracy of synthetic data being similar to the original). I need to figure out what is going wrong (Review cell 8)."
   ]
  },
  {
   "cell_type": "code",
   "execution_count": null,
   "id": "0b367be2-e95d-49a8-9228-13c4375a72b3",
   "metadata": {},
   "outputs": [],
   "source": []
  }
 ],
 "metadata": {
  "kernelspec": {
   "display_name": "Python 3 (ipykernel)",
   "language": "python",
   "name": "python3"
  },
  "language_info": {
   "codemirror_mode": {
    "name": "ipython",
    "version": 3
   },
   "file_extension": ".py",
   "mimetype": "text/x-python",
   "name": "python",
   "nbconvert_exporter": "python",
   "pygments_lexer": "ipython3",
   "version": "3.9.18"
  }
 },
 "nbformat": 4,
 "nbformat_minor": 5
}
