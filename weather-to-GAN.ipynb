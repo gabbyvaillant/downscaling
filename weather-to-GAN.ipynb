{
 "cells": [
  {
   "cell_type": "markdown",
   "id": "46c13278-7495-444a-a53b-bacfc2f96a89",
   "metadata": {},
   "source": [
    "# **Time Series synthetic weather data generation using TimeGan Model**\n",
    "\n",
    "* TimeGAN - Utilizing this model from the paper and github\n",
    "* Following along with the TimeGAN_Synthetic_stock_data.ipynb which generates synthetic stock data.\n",
    "\n",
    "\n",
    "**Dataset Information**\n",
    "* The data used in this notebook was downloaded from ESFGR and has been preprocessed to for simplicity\n",
    "* Preprocessing steps:\n",
    "  - Downloaded as a NetCDF file (.nc) from ESFGR with only one variable included: temperature (tas).\n",
    "  -  Data is output from global climate model (GCMs) with a daily 100km resolution. GCMs are what are of interest for meterologists to have downscaled data from.\n",
    "  -  365 rows containing the daily average temperature (tas) from 01/01/2015 to 12/31/2015\n",
    "  -  There are two columns: Date and tas (might need to get rid of the date one)\n",
    "  -  **Need to standardize the data**\n"
   ]
  },
  {
   "cell_type": "code",
   "execution_count": 59,
   "id": "c80304ff-2cd0-4528-9a62-4371e344c920",
   "metadata": {},
   "outputs": [
    {
     "ename": "TypeError",
     "evalue": "unsupported operand type(s) for |: 'types.GenericAlias' and 'NoneType'",
     "output_type": "error",
     "traceback": [
      "\u001b[0;31m---------------------------------------------------------------------------\u001b[0m",
      "\u001b[0;31mTypeError\u001b[0m                                 Traceback (most recent call last)",
      "Cell \u001b[0;32mIn[59], line 15\u001b[0m\n\u001b[1;32m     12\u001b[0m \u001b[38;5;28;01mfrom\u001b[39;00m \u001b[38;5;21;01mydata_synthetic\u001b[39;00m\u001b[38;5;21;01m.\u001b[39;00m\u001b[38;5;21;01mpreprocessing\u001b[39;00m\u001b[38;5;21;01m.\u001b[39;00m\u001b[38;5;21;01mtimeseries\u001b[39;00m\u001b[38;5;21;01m.\u001b[39;00m\u001b[38;5;21;01mstock\u001b[39;00m \u001b[38;5;28;01mimport\u001b[39;00m transformations\n\u001b[1;32m     14\u001b[0m \u001b[38;5;66;03m#from ydata_synthetic.preprocessing.timeseries import processed_stock\u001b[39;00m\n\u001b[0;32m---> 15\u001b[0m \u001b[38;5;28;01mfrom\u001b[39;00m \u001b[38;5;21;01mydata_synthetic\u001b[39;00m\u001b[38;5;21;01m.\u001b[39;00m\u001b[38;5;21;01msynthesizers\u001b[39;00m\u001b[38;5;21;01m.\u001b[39;00m\u001b[38;5;21;01mtimeseries\u001b[39;00m \u001b[38;5;28;01mimport\u001b[39;00m TimeSeriesSynthesizer\n\u001b[1;32m     17\u001b[0m \u001b[38;5;66;03m#TypeError: unsupported operand type(s) for |: 'types.GenericAlias' and 'NoneType'\u001b[39;00m\n",
      "File \u001b[0;32m~/miniconda3/envs/ydata/lib/python3.9/site-packages/ydata_synthetic/synthesizers/timeseries/__init__.py:1\u001b[0m\n\u001b[0;32m----> 1\u001b[0m \u001b[38;5;28;01mfrom\u001b[39;00m \u001b[38;5;21;01mydata_synthetic\u001b[39;00m\u001b[38;5;21;01m.\u001b[39;00m\u001b[38;5;21;01msynthesizers\u001b[39;00m\u001b[38;5;21;01m.\u001b[39;00m\u001b[38;5;21;01mtimeseries\u001b[39;00m\u001b[38;5;21;01m.\u001b[39;00m\u001b[38;5;21;01mmodel\u001b[39;00m \u001b[38;5;28;01mimport\u001b[39;00m TimeSeriesSynthesizer\n\u001b[1;32m      3\u001b[0m __all__ \u001b[38;5;241m=\u001b[39m [\n\u001b[1;32m      4\u001b[0m     \u001b[38;5;124m'\u001b[39m\u001b[38;5;124mTimeSeriesSynthesizer\u001b[39m\u001b[38;5;124m'\u001b[39m\n\u001b[1;32m      5\u001b[0m ]\n",
      "File \u001b[0;32m~/miniconda3/envs/ydata/lib/python3.9/site-packages/ydata_synthetic/synthesizers/timeseries/model.py:11\u001b[0m\n\u001b[1;32m      7\u001b[0m \u001b[38;5;28;01mfrom\u001b[39;00m \u001b[38;5;21;01mjoblib\u001b[39;00m \u001b[38;5;28;01mimport\u001b[39;00m load\n\u001b[1;32m      9\u001b[0m \u001b[38;5;28;01mfrom\u001b[39;00m \u001b[38;5;21;01mtensorflow\u001b[39;00m \u001b[38;5;28;01mimport\u001b[39;00m config \u001b[38;5;28;01mas\u001b[39;00m tfconfig\n\u001b[0;32m---> 11\u001b[0m \u001b[38;5;28;01mfrom\u001b[39;00m \u001b[38;5;21;01mydata_synthetic\u001b[39;00m\u001b[38;5;21;01m.\u001b[39;00m\u001b[38;5;21;01msynthesizers\u001b[39;00m\u001b[38;5;21;01m.\u001b[39;00m\u001b[38;5;21;01mtimeseries\u001b[39;00m\u001b[38;5;21;01m.\u001b[39;00m\u001b[38;5;21;01mtimegan\u001b[39;00m\u001b[38;5;21;01m.\u001b[39;00m\u001b[38;5;21;01mmodel\u001b[39;00m \u001b[38;5;28;01mimport\u001b[39;00m TimeGAN\n\u001b[1;32m     12\u001b[0m \u001b[38;5;28;01mfrom\u001b[39;00m \u001b[38;5;21;01mydata_synthetic\u001b[39;00m\u001b[38;5;21;01m.\u001b[39;00m\u001b[38;5;21;01msynthesizers\u001b[39;00m\u001b[38;5;21;01m.\u001b[39;00m\u001b[38;5;21;01mtimeseries\u001b[39;00m\u001b[38;5;21;01m.\u001b[39;00m\u001b[38;5;21;01mdoppelganger\u001b[39;00m\u001b[38;5;21;01m.\u001b[39;00m\u001b[38;5;21;01mmodel\u001b[39;00m \u001b[38;5;28;01mimport\u001b[39;00m DoppelGANger\n\u001b[1;32m     14\u001b[0m \u001b[38;5;28;01mfrom\u001b[39;00m \u001b[38;5;21;01mydata_synthetic\u001b[39;00m\u001b[38;5;21;01m.\u001b[39;00m\u001b[38;5;21;01mutils\u001b[39;00m\u001b[38;5;21;01m.\u001b[39;00m\u001b[38;5;21;01mlogger\u001b[39;00m \u001b[38;5;28;01mimport\u001b[39;00m SynthesizersLogger\n",
      "File \u001b[0;32m~/miniconda3/envs/ydata/lib/python3.9/site-packages/ydata_synthetic/synthesizers/timeseries/timegan/model.py:38\u001b[0m\n\u001b[1;32m     32\u001b[0m     model\u001b[38;5;241m.\u001b[39madd(Dense(units\u001b[38;5;241m=\u001b[39moutput_units,\n\u001b[1;32m     33\u001b[0m                     activation\u001b[38;5;241m=\u001b[39m\u001b[38;5;124m'\u001b[39m\u001b[38;5;124msigmoid\u001b[39m\u001b[38;5;124m'\u001b[39m,\n\u001b[1;32m     34\u001b[0m                     name\u001b[38;5;241m=\u001b[39m\u001b[38;5;124m'\u001b[39m\u001b[38;5;124mOUT\u001b[39m\u001b[38;5;124m'\u001b[39m))\n\u001b[1;32m     35\u001b[0m     \u001b[38;5;28;01mreturn\u001b[39;00m model\n\u001b[0;32m---> 38\u001b[0m \u001b[38;5;28;01mclass\u001b[39;00m \u001b[38;5;21;01mTimeGAN\u001b[39;00m(BaseGANModel):\n\u001b[1;32m     40\u001b[0m     __MODEL__ \u001b[38;5;241m=\u001b[39m \u001b[38;5;124m'\u001b[39m\u001b[38;5;124mTimeGAN\u001b[39m\u001b[38;5;124m'\u001b[39m\n\u001b[1;32m     42\u001b[0m     \u001b[38;5;28;01mdef\u001b[39;00m \u001b[38;5;21m__init__\u001b[39m(\u001b[38;5;28mself\u001b[39m, model_parameters: ModelParameters):\n",
      "File \u001b[0;32m~/miniconda3/envs/ydata/lib/python3.9/site-packages/ydata_synthetic/synthesizers/timeseries/timegan/model.py:52\u001b[0m, in \u001b[0;36mTimeGAN\u001b[0;34m()\u001b[0m\n\u001b[1;32m     47\u001b[0m     \u001b[38;5;28mself\u001b[39m\u001b[38;5;241m.\u001b[39mgamma \u001b[38;5;241m=\u001b[39m model_parameters\u001b[38;5;241m.\u001b[39mgamma\n\u001b[1;32m     48\u001b[0m     \u001b[38;5;28mself\u001b[39m\u001b[38;5;241m.\u001b[39mnum_cols \u001b[38;5;241m=\u001b[39m \u001b[38;5;28;01mNone\u001b[39;00m\n\u001b[1;32m     50\u001b[0m \u001b[38;5;28;01mdef\u001b[39;00m \u001b[38;5;21mfit\u001b[39m(\u001b[38;5;28mself\u001b[39m, data: DataFrame,\n\u001b[1;32m     51\u001b[0m     train_arguments: TrainParameters,\n\u001b[0;32m---> 52\u001b[0m     num_cols: \u001b[38;5;28;43mlist\u001b[39;49m\u001b[43m[\u001b[49m\u001b[38;5;28;43mstr\u001b[39;49m\u001b[43m]\u001b[49m\u001b[43m \u001b[49m\u001b[38;5;241;43m|\u001b[39;49m\u001b[43m \u001b[49m\u001b[38;5;28;43;01mNone\u001b[39;49;00m \u001b[38;5;241m=\u001b[39m \u001b[38;5;28;01mNone\u001b[39;00m,\n\u001b[1;32m     53\u001b[0m     cat_cols: \u001b[38;5;28mlist\u001b[39m[\u001b[38;5;28mstr\u001b[39m] \u001b[38;5;241m|\u001b[39m \u001b[38;5;28;01mNone\u001b[39;00m \u001b[38;5;241m=\u001b[39m \u001b[38;5;28;01mNone\u001b[39;00m):\n\u001b[1;32m     54\u001b[0m \u001b[38;5;250m    \u001b[39m\u001b[38;5;124;03m\"\"\"\u001b[39;00m\n\u001b[1;32m     55\u001b[0m \u001b[38;5;124;03m    Fits the TimeGAN model.\u001b[39;00m\n\u001b[1;32m     56\u001b[0m \n\u001b[0;32m   (...)\u001b[0m\n\u001b[1;32m     61\u001b[0m \u001b[38;5;124;03m        cat_cols: List of columns to be handled as categorical\u001b[39;00m\n\u001b[1;32m     62\u001b[0m \u001b[38;5;124;03m    \"\"\"\u001b[39;00m\n\u001b[1;32m     63\u001b[0m     \u001b[38;5;28msuper\u001b[39m()\u001b[38;5;241m.\u001b[39mfit(data\u001b[38;5;241m=\u001b[39mdata, num_cols\u001b[38;5;241m=\u001b[39mnum_cols, cat_cols\u001b[38;5;241m=\u001b[39mcat_cols, train_arguments\u001b[38;5;241m=\u001b[39mtrain_arguments)\n",
      "\u001b[0;31mTypeError\u001b[0m: unsupported operand type(s) for |: 'types.GenericAlias' and 'NoneType'"
     ]
    }
   ],
   "source": [
    "#Import the necessary libraries\n",
    "\n",
    "import ydata_synthetic\n",
    "from os import path\n",
    "import pandas as pd\n",
    "import numpy as np\n",
    "import warnings\n",
    "warnings.filterwarnings(\"ignore\")\n",
    "\n",
    "#Below is giving errors for some reason\n",
    "from ydata_synthetic.synthesizers import ModelParameters, TrainParameters\n",
    "from ydata_synthetic.preprocessing.timeseries.stock import transformations\n",
    "\n",
    "#from ydata_synthetic.preprocessing.timeseries import processed_stock\n",
    "from ydata_synthetic.synthesizers.timeseries import TimeSeriesSynthesizer\n",
    "\n",
    "#TypeError: unsupported operand type(s) for |: 'types.GenericAlias' and 'NoneType'"
   ]
  },
  {
   "cell_type": "markdown",
   "id": "34a6c1a2-ce5c-4302-960c-da882262476d",
   "metadata": {},
   "source": [
    "**Loading dataset and standardizing**\n",
    "* (0) MinMaxScaler: Min Max normalizer. Function taken from [data_loading.py](https://github.com/jsyoon0823/TimeGAN/blob/master/data_loading.py) from TimeGAN.\n",
    "* (1) real_data_loading: Load and preprocess real data. Function taken and edited from [data_loading.py](https://github.com/jsyoon0823/TimeGAN/blob/master/data_loading.py) from TimeGAN.\n"
   ]
  },
  {
   "cell_type": "code",
   "execution_count": 54,
   "id": "23827f40-e96b-487b-80a2-e870e7935383",
   "metadata": {},
   "outputs": [
    {
     "name": "stdout",
     "output_type": "stream",
     "text": [
      "(365, 1)\n"
     ]
    }
   ],
   "source": [
    "#Loading dataset and standardizing\n",
    "#Read in the dataset and set index\n",
    "\n",
    "weather_df = pd.read_csv('/Users/gabbyvaillant/Downloads/BNL/temperature_BNL_tas_2015.csv')\n",
    "weather_df = weather_df.set_index('Date').sort_index()\n",
    "\n",
    "#Using the transformations function to normalize the data and get into sequences\n",
    "\n",
    "data_path = '/Users/gabbyvaillant/Downloads/BNL/temperature_BNL_tas_2015.csv'\n",
    "processed_weather = transformations(data_path, seq_len=7)\n",
    "\n",
    "cols = list(weather_df.columns)\n",
    "print(weather_df.shape)\n",
    "\n",
    "#NOTE: when using the real_data_loading function that is called inside of the transformations\n",
    "#function, it reverses the order of the data. I think it does this because the example uses stock\n",
    "#data which begins with the first row being the most recent stock price. Our weather data is \n",
    "#already in chronological order so when we call this function, it will be backwards.\n",
    "#BUT i dont think this matters because no matter the input order, it will randomly shuffle\n",
    "#the data to ensure it is i.i.d"
   ]
  },
  {
   "cell_type": "markdown",
   "id": "5336dc5f-cd06-4489-9f98-dceb5c6a7b3e",
   "metadata": {},
   "source": [
    "**Defining Model hyperparameters**\n",
    "\n",
    "**Networks:**\n",
    "- Generator\n",
    "- Discriminator\n",
    "- Embedder\n",
    "- Recovery Network\n",
    "\n",
    "The parameters should be optimized and tailored to the specific dataset you are working with."
   ]
  },
  {
   "cell_type": "code",
   "execution_count": 55,
   "id": "5e405b19-e019-4771-93bf-6749aa8b7df1",
   "metadata": {},
   "outputs": [],
   "source": [
    "#Specific parameters for TimeGAN model\n",
    "\n",
    "seq_len = 7 #ask Tianqiao how to choose this? 7 days?\n",
    "\n",
    "#ORIGINAL STUFF:\n",
    "n_seq = 6\n",
    "hidden_dim = 24\n",
    "gamma = 1\n",
    "\n",
    "noise_dim = 32\n",
    "dim = 128\n",
    "batch_size = 128\n",
    "\n",
    "log_step = 100\n",
    "learning_rate = 5e-4\n",
    "# For quick prototyping\n",
    "# epochs=50000\n",
    "epochs = 10\n",
    "\n",
    "gan_args = ModelParameters(\n",
    "    batch_size=batch_size, lr=learning_rate, noise_dim=noise_dim, layers_dim=dim\n",
    ")\n",
    "\n",
    "train_args = TrainParameters(\n",
    "    epochs=epochs, sequence_length=seq_len, number_sequences=n_seq\n",
    ")"
   ]
  },
  {
   "cell_type": "markdown",
   "id": "bf237210-d32f-438a-8f8e-2d67037c4d8d",
   "metadata": {},
   "source": [
    "**Training the GAN synthetizer**\n"
   ]
  },
  {
   "cell_type": "code",
   "execution_count": 58,
   "id": "4fc8c6d9-3d4c-4c0e-a88c-28143aa6a142",
   "metadata": {},
   "outputs": [
    {
     "ename": "NameError",
     "evalue": "name 'TimeSeriesSynthesizer' is not defined",
     "output_type": "error",
     "traceback": [
      "\u001b[0;31m---------------------------------------------------------------------------\u001b[0m",
      "\u001b[0;31mNameError\u001b[0m                                 Traceback (most recent call last)",
      "Cell \u001b[0;32mIn[58], line 4\u001b[0m\n\u001b[1;32m      2\u001b[0m     synth \u001b[38;5;241m=\u001b[39m TimeSeriesSynthesizer\u001b[38;5;241m.\u001b[39mload(\u001b[38;5;124m\"\u001b[39m\u001b[38;5;124msynthesizer_weather.pkl\u001b[39m\u001b[38;5;124m\"\u001b[39m)\n\u001b[1;32m      3\u001b[0m \u001b[38;5;28;01melse\u001b[39;00m:\n\u001b[0;32m----> 4\u001b[0m     synth \u001b[38;5;241m=\u001b[39m \u001b[43mTimeSeriesSynthesizer\u001b[49m(modelname\u001b[38;5;241m=\u001b[39m\u001b[38;5;124m\"\u001b[39m\u001b[38;5;124mtimegan\u001b[39m\u001b[38;5;124m\"\u001b[39m, model_parameters\u001b[38;5;241m=\u001b[39mgan_args)\n\u001b[1;32m      5\u001b[0m     synth\u001b[38;5;241m.\u001b[39mfit(weather_df, train_args, num_cols\u001b[38;5;241m=\u001b[39mcols)\n\u001b[1;32m      6\u001b[0m     synth\u001b[38;5;241m.\u001b[39msave(\u001b[38;5;124m\"\u001b[39m\u001b[38;5;124msynthesizer_weather.pkl\u001b[39m\u001b[38;5;124m\"\u001b[39m)\n",
      "\u001b[0;31mNameError\u001b[0m: name 'TimeSeriesSynthesizer' is not defined"
     ]
    }
   ],
   "source": [
    "if path.exists(\"synthesizer_stock.pkl\"):\n",
    "    synth = TimeSeriesSynthesizer.load(\"synthesizer_weather.pkl\")\n",
    "else:\n",
    "    synth = TimeSeriesSynthesizer(modelname=\"timegan\", model_parameters=gan_args)\n",
    "    synth.fit(weather_df, train_args, num_cols=cols)\n",
    "    synth.save(\"synthesizer_weather.pkl\")"
   ]
  },
  {
   "cell_type": "code",
   "execution_count": null,
   "id": "a5d32c57-443e-4fd7-9db4-3918bde7ef00",
   "metadata": {},
   "outputs": [],
   "source": []
  }
 ],
 "metadata": {
  "kernelspec": {
   "display_name": "Python 3 (ipykernel)",
   "language": "python",
   "name": "python3"
  },
  "language_info": {
   "codemirror_mode": {
    "name": "ipython",
    "version": 3
   },
   "file_extension": ".py",
   "mimetype": "text/x-python",
   "name": "python",
   "nbconvert_exporter": "python",
   "pygments_lexer": "ipython3",
   "version": "3.9.18"
  }
 },
 "nbformat": 4,
 "nbformat_minor": 5
}
